{
  "nbformat": 4,
  "nbformat_minor": 0,
  "metadata": {
    "colab": {
      "provenance": []
    },
    "kernelspec": {
      "name": "python3",
      "display_name": "Python 3"
    },
    "language_info": {
      "name": "python"
    },
    "gpuClass": "standard"
  },
  "cells": [
    {
      "cell_type": "code",
      "execution_count": null,
      "metadata": {
        "id": "yjlncQs51uoM"
      },
      "outputs": [],
      "source": [
        "import tensorflow as tf\n",
        "from tensorflow.keras.preprocessing.text import Tokenizer\n",
        "from tensorflow.keras.layers import Embedding, LSTM, Dense\n",
        "from tensorflow.keras.models import Sequential\n",
        "from tensorflow.keras.utils import to_categorical\n",
        "from tensorflow.keras.optimizers import Adam\n",
        "import pickle\n",
        "import numpy as np\n",
        "import os"
      ]
    },
    {
      "cell_type": "code",
      "source": [
        "from google.colab import drive\n",
        "drive.mount('/content/drive')"
      ],
      "metadata": {
        "colab": {
          "base_uri": "https://localhost:8080/"
        },
        "id": "KPPCSCt2KAja",
        "outputId": "f2531df7-d02c-46f4-ecf7-df8aeb8f74f3"
      },
      "execution_count": null,
      "outputs": [
        {
          "output_type": "stream",
          "name": "stdout",
          "text": [
            "Drive already mounted at /content/drive; to attempt to forcibly remount, call drive.mount(\"/content/drive\", force_remount=True).\n"
          ]
        }
      ]
    },
    {
      "cell_type": "code",
      "source": [
        "import pandas as pd\n",
        "df = pd.read_csv(\"drive/MyDrive/cleaned_data.csv\")"
      ],
      "metadata": {
        "id": "h0friNdPKK8V"
      },
      "execution_count": null,
      "outputs": []
    },
    {
      "cell_type": "code",
      "source": [
        "df.shape"
      ],
      "metadata": {
        "colab": {
          "base_uri": "https://localhost:8080/"
        },
        "id": "Yx_TXcgtM51B",
        "outputId": "888276e8-0a97-4b25-d4e1-6ba6e821b96e"
      },
      "execution_count": null,
      "outputs": [
        {
          "output_type": "execute_result",
          "data": {
            "text/plain": [
              "(489236, 3)"
            ]
          },
          "metadata": {},
          "execution_count": 4
        }
      ]
    },
    {
      "cell_type": "code",
      "source": [
        "df.head()"
      ],
      "metadata": {
        "colab": {
          "base_uri": "https://localhost:8080/",
          "height": 206
        },
        "id": "XCYwcNNnKqcS",
        "outputId": "0b8d14d5-b2dc-4c45-9ed3-ae466e524644"
      },
      "execution_count": null,
      "outputs": [
        {
          "output_type": "execute_result",
          "data": {
            "text/plain": [
              "                        subject    X-Folder  \\\n",
              "0                           Re:  'sent mail   \n",
              "1                      Re: test  'sent mail   \n",
              "2                     Re: Hello  'sent mail   \n",
              "3                     Re: Hello  'sent mail   \n",
              "4  Re: PRC review - phone calls  'sent mail   \n",
              "\n",
              "                                                body  \n",
              "0  Traveling to have a business meeting takes the...  \n",
              "1                     test successful.  way to go!!!  \n",
              "2                Let's shoot for Tuesday at 11:45.    \n",
              "3  Greg,\\n\\n How about either next Tuesday or Thu...  \n",
              "4                   any morning between 10 and 11:30  "
            ],
            "text/html": [
              "\n",
              "  <div id=\"df-e0d0737c-d8da-4702-a972-704cd74b0d2d\">\n",
              "    <div class=\"colab-df-container\">\n",
              "      <div>\n",
              "<style scoped>\n",
              "    .dataframe tbody tr th:only-of-type {\n",
              "        vertical-align: middle;\n",
              "    }\n",
              "\n",
              "    .dataframe tbody tr th {\n",
              "        vertical-align: top;\n",
              "    }\n",
              "\n",
              "    .dataframe thead th {\n",
              "        text-align: right;\n",
              "    }\n",
              "</style>\n",
              "<table border=\"1\" class=\"dataframe\">\n",
              "  <thead>\n",
              "    <tr style=\"text-align: right;\">\n",
              "      <th></th>\n",
              "      <th>subject</th>\n",
              "      <th>X-Folder</th>\n",
              "      <th>body</th>\n",
              "    </tr>\n",
              "  </thead>\n",
              "  <tbody>\n",
              "    <tr>\n",
              "      <th>0</th>\n",
              "      <td>Re:</td>\n",
              "      <td>'sent mail</td>\n",
              "      <td>Traveling to have a business meeting takes the...</td>\n",
              "    </tr>\n",
              "    <tr>\n",
              "      <th>1</th>\n",
              "      <td>Re: test</td>\n",
              "      <td>'sent mail</td>\n",
              "      <td>test successful.  way to go!!!</td>\n",
              "    </tr>\n",
              "    <tr>\n",
              "      <th>2</th>\n",
              "      <td>Re: Hello</td>\n",
              "      <td>'sent mail</td>\n",
              "      <td>Let's shoot for Tuesday at 11:45.</td>\n",
              "    </tr>\n",
              "    <tr>\n",
              "      <th>3</th>\n",
              "      <td>Re: Hello</td>\n",
              "      <td>'sent mail</td>\n",
              "      <td>Greg,\\n\\n How about either next Tuesday or Thu...</td>\n",
              "    </tr>\n",
              "    <tr>\n",
              "      <th>4</th>\n",
              "      <td>Re: PRC review - phone calls</td>\n",
              "      <td>'sent mail</td>\n",
              "      <td>any morning between 10 and 11:30</td>\n",
              "    </tr>\n",
              "  </tbody>\n",
              "</table>\n",
              "</div>\n",
              "      <button class=\"colab-df-convert\" onclick=\"convertToInteractive('df-e0d0737c-d8da-4702-a972-704cd74b0d2d')\"\n",
              "              title=\"Convert this dataframe to an interactive table.\"\n",
              "              style=\"display:none;\">\n",
              "        \n",
              "  <svg xmlns=\"http://www.w3.org/2000/svg\" height=\"24px\"viewBox=\"0 0 24 24\"\n",
              "       width=\"24px\">\n",
              "    <path d=\"M0 0h24v24H0V0z\" fill=\"none\"/>\n",
              "    <path d=\"M18.56 5.44l.94 2.06.94-2.06 2.06-.94-2.06-.94-.94-2.06-.94 2.06-2.06.94zm-11 1L8.5 8.5l.94-2.06 2.06-.94-2.06-.94L8.5 2.5l-.94 2.06-2.06.94zm10 10l.94 2.06.94-2.06 2.06-.94-2.06-.94-.94-2.06-.94 2.06-2.06.94z\"/><path d=\"M17.41 7.96l-1.37-1.37c-.4-.4-.92-.59-1.43-.59-.52 0-1.04.2-1.43.59L10.3 9.45l-7.72 7.72c-.78.78-.78 2.05 0 2.83L4 21.41c.39.39.9.59 1.41.59.51 0 1.02-.2 1.41-.59l7.78-7.78 2.81-2.81c.8-.78.8-2.07 0-2.86zM5.41 20L4 18.59l7.72-7.72 1.47 1.35L5.41 20z\"/>\n",
              "  </svg>\n",
              "      </button>\n",
              "      \n",
              "  <style>\n",
              "    .colab-df-container {\n",
              "      display:flex;\n",
              "      flex-wrap:wrap;\n",
              "      gap: 12px;\n",
              "    }\n",
              "\n",
              "    .colab-df-convert {\n",
              "      background-color: #E8F0FE;\n",
              "      border: none;\n",
              "      border-radius: 50%;\n",
              "      cursor: pointer;\n",
              "      display: none;\n",
              "      fill: #1967D2;\n",
              "      height: 32px;\n",
              "      padding: 0 0 0 0;\n",
              "      width: 32px;\n",
              "    }\n",
              "\n",
              "    .colab-df-convert:hover {\n",
              "      background-color: #E2EBFA;\n",
              "      box-shadow: 0px 1px 2px rgba(60, 64, 67, 0.3), 0px 1px 3px 1px rgba(60, 64, 67, 0.15);\n",
              "      fill: #174EA6;\n",
              "    }\n",
              "\n",
              "    [theme=dark] .colab-df-convert {\n",
              "      background-color: #3B4455;\n",
              "      fill: #D2E3FC;\n",
              "    }\n",
              "\n",
              "    [theme=dark] .colab-df-convert:hover {\n",
              "      background-color: #434B5C;\n",
              "      box-shadow: 0px 1px 3px 1px rgba(0, 0, 0, 0.15);\n",
              "      filter: drop-shadow(0px 1px 2px rgba(0, 0, 0, 0.3));\n",
              "      fill: #FFFFFF;\n",
              "    }\n",
              "  </style>\n",
              "\n",
              "      <script>\n",
              "        const buttonEl =\n",
              "          document.querySelector('#df-e0d0737c-d8da-4702-a972-704cd74b0d2d button.colab-df-convert');\n",
              "        buttonEl.style.display =\n",
              "          google.colab.kernel.accessAllowed ? 'block' : 'none';\n",
              "\n",
              "        async function convertToInteractive(key) {\n",
              "          const element = document.querySelector('#df-e0d0737c-d8da-4702-a972-704cd74b0d2d');\n",
              "          const dataTable =\n",
              "            await google.colab.kernel.invokeFunction('convertToInteractive',\n",
              "                                                     [key], {});\n",
              "          if (!dataTable) return;\n",
              "\n",
              "          const docLinkHtml = 'Like what you see? Visit the ' +\n",
              "            '<a target=\"_blank\" href=https://colab.research.google.com/notebooks/data_table.ipynb>data table notebook</a>'\n",
              "            + ' to learn more about interactive tables.';\n",
              "          element.innerHTML = '';\n",
              "          dataTable['output_type'] = 'display_data';\n",
              "          await google.colab.output.renderOutput(dataTable, element);\n",
              "          const docLink = document.createElement('div');\n",
              "          docLink.innerHTML = docLinkHtml;\n",
              "          element.appendChild(docLink);\n",
              "        }\n",
              "      </script>\n",
              "    </div>\n",
              "  </div>\n",
              "  "
            ]
          },
          "metadata": {},
          "execution_count": 5
        }
      ]
    },
    {
      "cell_type": "code",
      "source": [
        "file = open(\"drive/MyDrive/enron.txt\", \"r\", encoding = \"utf8\")\n",
        "\n",
        "# store file in list\n",
        "lines = []\n",
        "for i in file:\n",
        "    lines.append(i)\n",
        "\n",
        "# Convert list to string\n",
        "data = \"\"\n",
        "for i in lines:\n",
        "  data = ' '. join(lines)\n",
        "\n",
        "#replace unnecessary stuff with space\n",
        "data = data.replace('\\n', '').replace('\\r', '').replace('\\ufeff', '').replace('“','').replace('”','')  #new line, carriage return, unicode character --> replace by space\n",
        "\n",
        "#remove unnecessary spaces\n",
        "data = data.split()\n",
        "data = ' '.join(data)\n",
        "data[:500]"
      ],
      "metadata": {
        "colab": {
          "base_uri": "https://localhost:8080/",
          "height": 88
        },
        "id": "abTA1-g-3TdW",
        "outputId": "257a0f5e-11f0-46db-cc3b-34d529a3b206"
      },
      "execution_count": null,
      "outputs": [
        {
          "output_type": "execute_result",
          "data": {
            "text/plain": [
              "'Traveling to have a business meeting takes the fun out of the trip. Especially if you have to prepare a presentation. I would suggest holding the business plan meetings here then take a trip without any formal business meetings. I would even try and get some honest opinions on whether a trip is even desired or necessary. As far as the business meetings, I think it would be more productive to try and stimulate discussions across the different groups about what is working and what is not. Too ofte'"
            ],
            "application/vnd.google.colaboratory.intrinsic+json": {
              "type": "string"
            }
          },
          "metadata": {},
          "execution_count": 6
        }
      ]
    },
    {
      "cell_type": "code",
      "source": [
        "len(data)"
      ],
      "metadata": {
        "colab": {
          "base_uri": "https://localhost:8080/"
        },
        "id": "ZHh0_DZX394W",
        "outputId": "a0565a28-6776-44e3-a408-161c1e5fe7a8"
      },
      "execution_count": null,
      "outputs": [
        {
          "output_type": "execute_result",
          "data": {
            "text/plain": [
              "369102"
            ]
          },
          "metadata": {},
          "execution_count": 7
        }
      ]
    },
    {
      "cell_type": "markdown",
      "source": [
        "**Tokenizing the Vocabulary**"
      ],
      "metadata": {
        "id": "4ewwz-7K38aP"
      }
    },
    {
      "cell_type": "code",
      "source": [
        "tokenizer = Tokenizer()\n",
        "tokenizer.fit_on_texts([data])\n",
        "\n",
        "# saving the tokenizer for predict function\n",
        "pickle.dump(tokenizer, open('token.pkl', 'wb'))\n",
        "\n",
        "sequence_data = tokenizer.texts_to_sequences([data])[0]\n",
        "sequence_data[:15]"
      ],
      "metadata": {
        "colab": {
          "base_uri": "https://localhost:8080/"
        },
        "id": "3Vgrp_2M4Czg",
        "outputId": "e1e97f27-e13f-4f01-c47d-555f90707f39"
      },
      "execution_count": null,
      "outputs": [
        {
          "output_type": "execute_result",
          "data": {
            "text/plain": [
              "[1790, 4, 24, 8, 354, 104, 1304, 2, 2855, 75, 7, 2, 1036, 1037, 37]"
            ]
          },
          "metadata": {},
          "execution_count": 8
        }
      ]
    },
    {
      "cell_type": "markdown",
      "source": [
        "**Number of Unique Words**"
      ],
      "metadata": {
        "id": "6PgquC6O4JzX"
      }
    },
    {
      "cell_type": "code",
      "source": [
        "len(sequence_data)"
      ],
      "metadata": {
        "colab": {
          "base_uri": "https://localhost:8080/"
        },
        "id": "97E4MhRS4HEC",
        "outputId": "96cae7d3-ce6b-4278-dfeb-b1c46bef6492"
      },
      "execution_count": null,
      "outputs": [
        {
          "output_type": "execute_result",
          "data": {
            "text/plain": [
              "63918"
            ]
          },
          "metadata": {},
          "execution_count": 9
        }
      ]
    },
    {
      "cell_type": "code",
      "source": [
        "vocab_size = len(tokenizer.word_index) + 1\n",
        "print(vocab_size)"
      ],
      "metadata": {
        "colab": {
          "base_uri": "https://localhost:8080/"
        },
        "id": "J5HTcolv4MeH",
        "outputId": "61991c7a-0bf8-4929-c12d-71eb7bf472ea"
      },
      "execution_count": null,
      "outputs": [
        {
          "output_type": "stream",
          "name": "stdout",
          "text": [
            "6622\n"
          ]
        }
      ]
    },
    {
      "cell_type": "code",
      "source": [
        "sequences = []\n",
        "\n",
        "for i in range(3, len(sequence_data)):\n",
        "    words = sequence_data[i-3:i+1]\n",
        "    sequences.append(words)\n",
        "\n",
        "print(\"The Length of sequences are: \", len(sequences))\n",
        "sequences = np.array(sequences)\n",
        "sequences[:10]"
      ],
      "metadata": {
        "colab": {
          "base_uri": "https://localhost:8080/"
        },
        "id": "BNHOXIt64OCc",
        "outputId": "f37c7ded-3393-4c72-d35d-5ef9fc69f372"
      },
      "execution_count": null,
      "outputs": [
        {
          "output_type": "stream",
          "name": "stdout",
          "text": [
            "The Length of sequences are:  63915\n"
          ]
        },
        {
          "output_type": "execute_result",
          "data": {
            "text/plain": [
              "array([[1790,    4,   24,    8],\n",
              "       [   4,   24,    8,  354],\n",
              "       [  24,    8,  354,  104],\n",
              "       [   8,  354,  104, 1304],\n",
              "       [ 354,  104, 1304,    2],\n",
              "       [ 104, 1304,    2, 2855],\n",
              "       [1304,    2, 2855,   75],\n",
              "       [   2, 2855,   75,    7],\n",
              "       [2855,   75,    7,    2],\n",
              "       [  75,    7,    2, 1036]])"
            ]
          },
          "metadata": {},
          "execution_count": 11
        }
      ]
    },
    {
      "cell_type": "code",
      "source": [
        "X = []\n",
        "y = []\n",
        "\n",
        "for i in sequences:\n",
        "    X.append(i[0:3])\n",
        "    y.append(i[3])\n",
        "\n",
        "X = np.array(X)\n",
        "y = np.array(y)"
      ],
      "metadata": {
        "id": "j1dLMgrK4RtX"
      },
      "execution_count": null,
      "outputs": []
    },
    {
      "cell_type": "code",
      "source": [
        "print(\"Data: \", X[:10])\n",
        "print(\"Response: \", y[:10])"
      ],
      "metadata": {
        "colab": {
          "base_uri": "https://localhost:8080/"
        },
        "id": "LzQaUUmu4Ve5",
        "outputId": "85eae057-59e6-40d0-bc38-44f7291b7665"
      },
      "execution_count": null,
      "outputs": [
        {
          "output_type": "stream",
          "name": "stdout",
          "text": [
            "Data:  [[1790    4   24]\n",
            " [   4   24    8]\n",
            " [  24    8  354]\n",
            " [   8  354  104]\n",
            " [ 354  104 1304]\n",
            " [ 104 1304    2]\n",
            " [1304    2 2855]\n",
            " [   2 2855   75]\n",
            " [2855   75    7]\n",
            " [  75    7    2]]\n",
            "Response:  [   8  354  104 1304    2 2855   75    7    2 1036]\n"
          ]
        }
      ]
    },
    {
      "cell_type": "code",
      "source": [
        "y = to_categorical(y, num_classes=vocab_size)\n",
        "y[:5]"
      ],
      "metadata": {
        "colab": {
          "base_uri": "https://localhost:8080/"
        },
        "id": "L1MVX8pR4aYO",
        "outputId": "a7500e46-e229-4f56-c843-550ffb177e30"
      },
      "execution_count": null,
      "outputs": [
        {
          "output_type": "execute_result",
          "data": {
            "text/plain": [
              "array([[0., 0., 0., ..., 0., 0., 0.],\n",
              "       [0., 0., 0., ..., 0., 0., 0.],\n",
              "       [0., 0., 0., ..., 0., 0., 0.],\n",
              "       [0., 0., 0., ..., 0., 0., 0.],\n",
              "       [0., 0., 1., ..., 0., 0., 0.]], dtype=float32)"
            ]
          },
          "metadata": {},
          "execution_count": 14
        }
      ]
    },
    {
      "cell_type": "code",
      "source": [
        "model = Sequential()\n",
        "model.add(Embedding(vocab_size, 10, input_length=3))\n",
        "model.add(LSTM(1000, return_sequences=True))\n",
        "model.add(LSTM(1000))\n",
        "model.add(Dense(1000, activation=\"relu\"))\n",
        "model.add(Dense(vocab_size, activation=\"softmax\"))"
      ],
      "metadata": {
        "id": "4rXv09jB4eCW"
      },
      "execution_count": null,
      "outputs": []
    },
    {
      "cell_type": "code",
      "source": [
        "model.summary()"
      ],
      "metadata": {
        "colab": {
          "base_uri": "https://localhost:8080/"
        },
        "id": "QonGBWiK4hun",
        "outputId": "104a5750-0fa4-4a94-9a5a-15975b1ded32"
      },
      "execution_count": null,
      "outputs": [
        {
          "output_type": "stream",
          "name": "stdout",
          "text": [
            "Model: \"sequential\"\n",
            "_________________________________________________________________\n",
            " Layer (type)                Output Shape              Param #   \n",
            "=================================================================\n",
            " embedding (Embedding)       (None, 3, 10)             66220     \n",
            "                                                                 \n",
            " lstm (LSTM)                 (None, 3, 1000)           4044000   \n",
            "                                                                 \n",
            " lstm_1 (LSTM)               (None, 1000)              8004000   \n",
            "                                                                 \n",
            " dense (Dense)               (None, 1000)              1001000   \n",
            "                                                                 \n",
            " dense_1 (Dense)             (None, 6622)              6628622   \n",
            "                                                                 \n",
            "=================================================================\n",
            "Total params: 19,743,842\n",
            "Trainable params: 19,743,842\n",
            "Non-trainable params: 0\n",
            "_________________________________________________________________\n"
          ]
        }
      ]
    },
    {
      "cell_type": "code",
      "source": [
        "from tensorflow import keras\n",
        "from keras.utils.vis_utils import plot_model\n",
        "\n",
        "keras.utils.plot_model(model, to_file='plot.png', show_layer_names=True)"
      ],
      "metadata": {
        "colab": {
          "base_uri": "https://localhost:8080/",
          "height": 564
        },
        "id": "IxBM6aj84mbH",
        "outputId": "afdba0a9-8c7f-4e80-86d7-fb9848142da0"
      },
      "execution_count": null,
      "outputs": [
        {
          "output_type": "execute_result",
          "data": {
            "image/png": "[encoded data removed]",
            "text/plain": [
              "<IPython.core.display.Image object>"
            ]
          },
          "metadata": {},
          "execution_count": 17
        }
      ]
    },
    {
      "cell_type": "code",
      "source": [
        "from tensorflow.keras.callbacks import ModelCheckpoint\n",
        "\n",
        "checkpoint = ModelCheckpoint(\"next_words.h5\", monitor='loss', verbose=1, save_best_only=True)\n",
        "model.compile(loss=\"categorical_crossentropy\", optimizer=Adam(learning_rate=0.001))\n",
        "model.fit(X, y, epochs=35, batch_size=64, callbacks=[checkpoint])"
      ],
      "metadata": {
        "colab": {
          "base_uri": "https://localhost:8080/"
        },
        "id": "rUqAr07G4o_8",
        "outputId": "66ac68db-2168-4c43-a2d4-5ab0b98a87c0"
      },
      "execution_count": null,
      "outputs": [
        {
          "output_type": "stream",
          "name": "stdout",
          "text": [
            "Epoch 1/35\n",
            "999/999 [==============================] - ETA: 0s - loss: 6.5085\n",
            "Epoch 1: loss improved from inf to 6.50851, saving model to next_words.h5\n",
            "999/999 [==============================] - 400s 397ms/step - loss: 6.5085\n",
            "Epoch 2/35\n",
            "999/999 [==============================] - ETA: 0s - loss: 5.4546\n",
            "Epoch 2: loss improved from 6.50851 to 5.45464, saving model to next_words.h5\n",
            "999/999 [==============================] - 399s 399ms/step - loss: 5.4546\n",
            "Epoch 3/35\n",
            "999/999 [==============================] - ETA: 0s - loss: 4.8382\n",
            "Epoch 3: loss improved from 5.45464 to 4.83816, saving model to next_words.h5\n",
            "999/999 [==============================] - 399s 400ms/step - loss: 4.8382\n",
            "Epoch 4/35\n",
            "999/999 [==============================] - ETA: 0s - loss: 4.3504\n",
            "Epoch 4: loss improved from 4.83816 to 4.35045, saving model to next_words.h5\n",
            "999/999 [==============================] - 398s 398ms/step - loss: 4.3504\n",
            "Epoch 5/35\n",
            "999/999 [==============================] - ETA: 0s - loss: 3.9110\n",
            "Epoch 5: loss improved from 4.35045 to 3.91104, saving model to next_words.h5\n",
            "999/999 [==============================] - 395s 395ms/step - loss: 3.9110\n",
            "Epoch 6/35\n",
            "999/999 [==============================] - ETA: 0s - loss: 3.4857\n",
            "Epoch 6: loss improved from 3.91104 to 3.48569, saving model to next_words.h5\n",
            "999/999 [==============================] - 398s 398ms/step - loss: 3.4857\n",
            "Epoch 7/35\n",
            "999/999 [==============================] - ETA: 0s - loss: 3.0791\n",
            "Epoch 7: loss improved from 3.48569 to 3.07905, saving model to next_words.h5\n",
            "999/999 [==============================] - 394s 394ms/step - loss: 3.0791\n",
            "Epoch 8/35\n",
            "999/999 [==============================] - ETA: 0s - loss: 2.7134\n",
            "Epoch 8: loss improved from 3.07905 to 2.71342, saving model to next_words.h5\n",
            "999/999 [==============================] - 399s 399ms/step - loss: 2.7134\n",
            "Epoch 9/35\n",
            "999/999 [==============================] - ETA: 0s - loss: 2.3843\n",
            "Epoch 9: loss improved from 2.71342 to 2.38431, saving model to next_words.h5\n",
            "999/999 [==============================] - 397s 397ms/step - loss: 2.3843\n",
            "Epoch 10/35\n",
            "999/999 [==============================] - ETA: 0s - loss: 2.0905\n",
            "Epoch 10: loss improved from 2.38431 to 2.09054, saving model to next_words.h5\n",
            "999/999 [==============================] - 408s 408ms/step - loss: 2.0905\n",
            "Epoch 11/35\n",
            "999/999 [==============================] - ETA: 0s - loss: 1.8325\n",
            "Epoch 11: loss improved from 2.09054 to 1.83250, saving model to next_words.h5\n",
            "999/999 [==============================] - 405s 405ms/step - loss: 1.8325\n",
            "Epoch 12/35\n",
            "999/999 [==============================] - ETA: 0s - loss: 1.6027\n",
            "Epoch 12: loss improved from 1.83250 to 1.60272, saving model to next_words.h5\n",
            "999/999 [==============================] - 396s 397ms/step - loss: 1.6027\n",
            "Epoch 13/35\n",
            "999/999 [==============================] - ETA: 0s - loss: 1.3972\n",
            "Epoch 13: loss improved from 1.60272 to 1.39719, saving model to next_words.h5\n",
            "999/999 [==============================] - 402s 402ms/step - loss: 1.3972\n",
            "Epoch 14/35\n",
            "999/999 [==============================] - ETA: 0s - loss: 1.2233\n",
            "Epoch 14: loss improved from 1.39719 to 1.22328, saving model to next_words.h5\n",
            "999/999 [==============================] - 401s 401ms/step - loss: 1.2233\n",
            "Epoch 15/35\n",
            "999/999 [==============================] - ETA: 0s - loss: 1.0743\n",
            "Epoch 15: loss improved from 1.22328 to 1.07433, saving model to next_words.h5\n",
            "999/999 [==============================] - 407s 407ms/step - loss: 1.0743\n",
            "Epoch 16/35\n",
            "999/999 [==============================] - ETA: 0s - loss: 0.9499\n",
            "Epoch 16: loss improved from 1.07433 to 0.94994, saving model to next_words.h5\n",
            "999/999 [==============================] - 395s 395ms/step - loss: 0.9499\n",
            "Epoch 17/35\n",
            "999/999 [==============================] - ETA: 0s - loss: 0.8505\n",
            "Epoch 17: loss improved from 0.94994 to 0.85050, saving model to next_words.h5\n",
            "999/999 [==============================] - 409s 409ms/step - loss: 0.8505\n",
            "Epoch 18/35\n",
            "999/999 [==============================] - ETA: 0s - loss: 0.7724\n",
            "Epoch 18: loss improved from 0.85050 to 0.77242, saving model to next_words.h5\n",
            "999/999 [==============================] - 379s 379ms/step - loss: 0.7724\n",
            "Epoch 19/35\n",
            "999/999 [==============================] - ETA: 0s - loss: 0.7053\n",
            "Epoch 19: loss improved from 0.77242 to 0.70530, saving model to next_words.h5\n",
            "999/999 [==============================] - 377s 378ms/step - loss: 0.7053\n",
            "Epoch 20/35\n",
            "999/999 [==============================] - ETA: 0s - loss: 0.6606\n",
            "Epoch 20: loss improved from 0.70530 to 0.66059, saving model to next_words.h5\n",
            "999/999 [==============================] - 377s 377ms/step - loss: 0.6606\n",
            "Epoch 21/35\n",
            "999/999 [==============================] - ETA: 0s - loss: 0.6275\n",
            "Epoch 21: loss improved from 0.66059 to 0.62746, saving model to next_words.h5\n",
            "999/999 [==============================] - 378s 378ms/step - loss: 0.6275\n",
            "Epoch 22/35\n",
            "999/999 [==============================] - ETA: 0s - loss: 0.5943\n",
            "Epoch 22: loss improved from 0.62746 to 0.59429, saving model to next_words.h5\n",
            "999/999 [==============================] - 378s 378ms/step - loss: 0.5943\n",
            "Epoch 23/35\n",
            "999/999 [==============================] - ETA: 0s - loss: 0.5773\n",
            "Epoch 23: loss improved from 0.59429 to 0.57729, saving model to next_words.h5\n",
            "999/999 [==============================] - 375s 375ms/step - loss: 0.5773\n",
            "Epoch 24/35\n",
            "999/999 [==============================] - ETA: 0s - loss: 0.5583\n",
            "Epoch 24: loss improved from 0.57729 to 0.55829, saving model to next_words.h5\n",
            "999/999 [==============================] - 378s 378ms/step - loss: 0.5583\n",
            "Epoch 25/35\n",
            "999/999 [==============================] - ETA: 0s - loss: 0.5418\n",
            "Epoch 25: loss improved from 0.55829 to 0.54178, saving model to next_words.h5\n",
            "999/999 [==============================] - 377s 377ms/step - loss: 0.5418\n",
            "Epoch 26/35\n",
            "999/999 [==============================] - ETA: 0s - loss: 0.5235\n",
            "Epoch 26: loss improved from 0.54178 to 0.52349, saving model to next_words.h5\n",
            "999/999 [==============================] - 388s 389ms/step - loss: 0.5235\n",
            "Epoch 27/35\n",
            "999/999 [==============================] - ETA: 0s - loss: 0.5198\n",
            "Epoch 27: loss improved from 0.52349 to 0.51980, saving model to next_words.h5\n",
            "999/999 [==============================] - 387s 388ms/step - loss: 0.5198\n",
            "Epoch 28/35\n",
            "999/999 [==============================] - ETA: 0s - loss: 0.5062\n",
            "Epoch 28: loss improved from 0.51980 to 0.50621, saving model to next_words.h5\n",
            "999/999 [==============================] - 385s 385ms/step - loss: 0.5062\n",
            "Epoch 29/35\n",
            "999/999 [==============================] - ETA: 0s - loss: 0.4922\n",
            "Epoch 29: loss improved from 0.50621 to 0.49217, saving model to next_words.h5\n",
            "999/999 [==============================] - 386s 387ms/step - loss: 0.4922\n",
            "Epoch 30/35\n",
            "999/999 [==============================] - ETA: 0s - loss: 0.4856\n",
            "Epoch 30: loss improved from 0.49217 to 0.48556, saving model to next_words.h5\n",
            "999/999 [==============================] - 383s 383ms/step - loss: 0.4856\n",
            "Epoch 31/35\n",
            "999/999 [==============================] - ETA: 0s - loss: 0.4775\n",
            "Epoch 31: loss improved from 0.48556 to 0.47748, saving model to next_words.h5\n",
            "999/999 [==============================] - 388s 388ms/step - loss: 0.4775\n",
            "Epoch 32/35\n",
            "999/999 [==============================] - ETA: 0s - loss: 0.4729\n",
            "Epoch 32: loss improved from 0.47748 to 0.47288, saving model to next_words.h5\n",
            "999/999 [==============================] - 389s 390ms/step - loss: 0.4729\n",
            "Epoch 33/35\n",
            "999/999 [==============================] - ETA: 0s - loss: 0.4665\n",
            "Epoch 33: loss improved from 0.47288 to 0.46648, saving model to next_words.h5\n",
            "999/999 [==============================] - 390s 390ms/step - loss: 0.4665\n",
            "Epoch 34/35\n",
            "999/999 [==============================] - ETA: 0s - loss: 0.4662\n",
            "Epoch 34: loss improved from 0.46648 to 0.46620, saving model to next_words.h5\n",
            "999/999 [==============================] - 390s 391ms/step - loss: 0.4662\n",
            "Epoch 35/35\n",
            "999/999 [==============================] - ETA: 0s - loss: 0.4566\n",
            "Epoch 35: loss improved from 0.46620 to 0.45657, saving model to next_words.h5\n",
            "999/999 [==============================] - 387s 388ms/step - loss: 0.4566\n"
          ]
        },
        {
          "output_type": "execute_result",
          "data": {
            "text/plain": [
              "<keras.callbacks.History at 0x7fdb996b9630>"
            ]
          },
          "metadata": {},
          "execution_count": 18
        }
      ]
    },
    {
      "cell_type": "code",
      "source": [
        "from tensorflow.keras.models import load_model\n",
        "import numpy as np\n",
        "import pickle\n",
        "\n",
        "# Load the model and tokenizer\n",
        "model = load_model('next_words.h5')\n",
        "tokenizer = pickle.load(open('token.pkl', 'rb'))\n",
        "\n",
        "def Predict_Next_Words(model, tokenizer, text):\n",
        "\n",
        "  sequence = tokenizer.texts_to_sequences([text])\n",
        "  sequence = np.array(sequence)\n",
        "  preds = np.argmax(model.predict(sequence))\n",
        "  predicted_word = \"\"\n",
        "\n",
        "  for key, value in tokenizer.word_index.items():\n",
        "      if value == preds:\n",
        "          predicted_word = key\n",
        "          break\n",
        "\n",
        "  print(predicted_word)\n",
        "  return predicted_word"
      ],
      "metadata": {
        "id": "i7NefyJt6cNm"
      },
      "execution_count": null,
      "outputs": []
    },
    {
      "cell_type": "code",
      "source": [
        "while(True):\n",
        "  text = input(\"Enter your line: \")\n",
        "\n",
        "  if text == \"0\":\n",
        "      print(\"Execution completed.....\")\n",
        "      break\n",
        "\n",
        "  else:\n",
        "      try:\n",
        "          text = text.split(\" \")\n",
        "          text = text[-3:]\n",
        "          print(text)\n",
        "\n",
        "          Predict_Next_Words(model, tokenizer, text)\n",
        "\n",
        "      except Exception as e:\n",
        "        print(\"Error occurred: \",e)\n",
        "        continue"
      ],
      "metadata": {
        "colab": {
          "base_uri": "https://localhost:8080/"
        },
        "id": "neSlDJarbPSc",
        "outputId": "ef564cea-a209-4ad4-f636-d18d75d1b451"
      },
      "execution_count": null,
      "outputs": [
        {
          "output_type": "stream",
          "name": "stdout",
          "text": [
            "Enter your line: what is it\n",
            "['what', 'is', 'it']\n",
            "1/1 [==============================] - 1s 808ms/step\n",
            "as\n",
            "Enter your line: this is not\n",
            "['this', 'is', 'not']\n",
            "1/1 [==============================] - 0s 25ms/step\n",
            "lose\n",
            "Enter your line: it would be\n",
            "['it', 'would', 'be']\n",
            "1/1 [==============================] - 0s 36ms/step\n",
            "likely\n",
            "Enter your line: way to go\n",
            "['way', 'to', 'go']\n",
            "1/1 [==============================] - 0s 33ms/step\n",
            "let's\n",
            "Enter your line: 0\n",
            "Execution completed.....\n"
          ]
        }
      ]
    },
    {
      "cell_type": "code",
      "source": [
        "while(True):\n",
        "  text = input(\"Enter your line: \")\n",
        "\n",
        "  if text == \"0\":\n",
        "      print(\"Execution completed.....\")\n",
        "      break\n",
        "\n",
        "  else:\n",
        "      try:\n",
        "          text = text.split(\" \")\n",
        "          text = text[-3:]\n",
        "          print(text)\n",
        "\n",
        "          Predict_Next_Words(model, tokenizer, text)\n",
        "\n",
        "      except Exception as e:\n",
        "        print(\"Error occurred: \",e)\n",
        "        continue"
      ],
      "metadata": {
        "colab": {
          "base_uri": "https://localhost:8080/"
        },
        "id": "S3HwAEA76gTi",
        "outputId": "4b00488b-d59a-49fa-d066-ca57c9e9e6c6"
      },
      "execution_count": null,
      "outputs": [
        {
          "output_type": "stream",
          "name": "stdout",
          "text": [
            "Enter your line: as discussed we\n",
            "['as', 'discussed', 'we']\n",
            "1/1 [==============================] - 1s 1s/step\n",
            "have\n",
            "Enter your line: nice to meet\n",
            "['nice', 'to', 'meet']\n",
            "1/1 [==============================] - 0s 39ms/step\n",
            "the\n",
            "Enter your line: it would be\n",
            "['it', 'would', 'be']\n",
            "1/1 [==============================] - 0s 36ms/step\n",
            "likely\n",
            "Enter your line: way to go\n",
            "['way', 'to', 'go']\n",
            "1/1 [==============================] - 0s 37ms/step\n",
            "let's\n",
            "Enter your line: there might be\n",
            "['there', 'might', 'be']\n",
            "1/1 [==============================] - 0s 37ms/step\n",
            "for\n",
            "Enter your line: might be for\n",
            "['might', 'be', 'for']\n",
            "1/1 [==============================] - 0s 35ms/step\n",
            "the\n",
            "Enter your line: it is for\n",
            "['it', 'is', 'for']\n",
            "1/1 [==============================] - 0s 34ms/step\n",
            "the\n",
            "Enter your line: we are going\n",
            "['we', 'are', 'going']\n",
            "1/1 [==============================] - 0s 35ms/step\n",
            "to\n",
            "Enter your line: lets catch up\n",
            "['lets', 'catch', 'up']\n",
            "1/1 [==============================] - 1s 821ms/step\n",
            "to\n",
            "Enter your line: let us catch\n",
            "['let', 'us', 'catch']\n",
            "1/1 [==============================] - 0s 31ms/step\n",
            "know\n",
            "Enter your line: is it good\n",
            "['is', 'it', 'good']\n",
            "1/1 [==============================] - 0s 34ms/step\n",
            "to\n",
            "Enter your line: what do you\n",
            "['what', 'do', 'you']\n",
            "1/1 [==============================] - 0s 46ms/step\n",
            "think\n",
            "Enter your line: is this how\n",
            "['is', 'this', 'how']\n",
            "1/1 [==============================] - 0s 36ms/step\n",
            "to\n",
            "Enter your line: we shall now\n",
            "['we', 'shall', 'now']\n",
            "1/1 [==============================] - 0s 31ms/step\n",
            "will\n",
            "Enter your line: we do have\n",
            "['we', 'do', 'have']\n",
            "1/1 [==============================] - 0s 35ms/step\n",
            "another\n",
            "Enter your line: we will now\n",
            "['we', 'will', 'now']\n",
            "1/1 [==============================] - 0s 35ms/step\n",
            "have\n",
            "Enter your line: it is plenty\n",
            "['it', 'is', 'plenty']\n",
            "1/1 [==============================] - 0s 37ms/step\n",
            "of\n",
            "Enter your line: 0\n",
            "Execution completed.....\n"
          ]
        }
      ]
    }
  ]
}